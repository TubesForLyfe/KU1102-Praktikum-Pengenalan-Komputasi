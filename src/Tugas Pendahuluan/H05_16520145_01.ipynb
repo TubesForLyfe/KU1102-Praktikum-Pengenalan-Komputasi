{
 "cells": [
  {
   "cell_type": "code",
   "execution_count": 13,
   "metadata": {
    "scrolled": true
   },
   "outputs": [],
   "source": [
    "# Nama : Willy Wilsen\n",
    "# NIM : 16520145\n",
    "# Tanggal : 13 Desember 2020\n",
    "# Deskripsi : Dari nilai_uas.csv akan dikeluarkan\n",
    "# 1. Banyak data\n",
    "# 2. 10 data pertama\n",
    "# 3. Data ke-50 sampai 60\n",
    "# 4. Banyak mahasiswa tiap fakultas\n",
    "# 5. Nilai korelasi antara nilai kalkulus dan nilai fisika"
   ]
  },
  {
   "cell_type": "code",
   "execution_count": 14,
   "metadata": {},
   "outputs": [
    {
     "name": "stdout",
     "output_type": "stream",
     "text": [
      "3562\n"
     ]
    }
   ],
   "source": [
    "# 1. Banyaknya data\n",
    "import pandas as pd\n",
    "\n",
    "df = pd.read_csv(\"nilai_uas.csv\")\n",
    "print(len(df))"
   ]
  },
  {
   "cell_type": "code",
   "execution_count": 1,
   "metadata": {},
   "outputs": [
    {
     "name": "stdout",
     "output_type": "stream",
     "text": [
      "                  nama fakultas  nilai_kal  nilai_fis  nilai_kim\n",
      "0         Raihan Daris       SF      60.27      65.59      51.70\n",
      "1           Galuh Wina     STEI      52.99      55.25      66.31\n",
      "2         Johannes Sun    FMIPA      51.20      51.30      84.70\n",
      "3  Abdurrahman WIlliam     FTSL      31.17      36.88      50.25\n",
      "4         Rayhan Faris     STEI      55.55      57.61      67.46\n",
      "5  Margareth Widyatama     FTTM      42.78      50.23      71.17\n",
      "6      Christofer Jaza     FTSL      31.64      38.03      34.99\n",
      "7         Wafika Nadia       SF      60.96      57.54      76.03\n",
      "8  Elizabeth Parikesit     STEI      54.35      55.30      59.15\n",
      "9         Halida Aqila    SITHR      63.71      67.23      63.76\n"
     ]
    }
   ],
   "source": [
    "# 2. 10 data pertama\n",
    "import pandas as pd\n",
    "\n",
    "df = pd.read_csv(\"nilai_uas.csv\")\n",
    "print(df[:10])"
   ]
  },
  {
   "cell_type": "code",
   "execution_count": 16,
   "metadata": {},
   "outputs": [
    {
     "name": "stdout",
     "output_type": "stream",
     "text": [
      "                 nama fakultas  nilai_kal  nilai_fis  nilai_kim\n",
      "49     Kenesha Monica     FTTM      41.63      39.58      61.25\n",
      "50     Ulul Mochammad     FTTM      38.75      44.24      40.11\n",
      "51      George Vrince     FITB      44.02      45.15      41.76\n",
      "52       Fayza Eunike     STEI      55.28      59.47      49.29\n",
      "53      Kevin Faustin    SAPPK      47.72      49.65      52.76\n",
      "54      salah Siagian    SAPPK      47.14      51.26      46.77\n",
      "55      Nabilah Satya       SF      61.26      63.96      57.19\n",
      "56   Tharisa Ghiffari     FSRD      74.14      78.86      54.59\n",
      "57     Setyawan Ahmad     FSRD      75.18      78.33      51.35\n",
      "58  Kelvin Salsabiela     FTTM      39.69      40.92      51.15\n",
      "59      Sitorus Aidil     FTMD      58.49      55.54      55.20\n"
     ]
    }
   ],
   "source": [
    "# 3. Data ke-50 sampai 60\n",
    "import pandas as pd\n",
    "\n",
    "df = pd.read_csv(\"nilai_uas.csv\")\n",
    "print(df[49:60])"
   ]
  },
  {
   "cell_type": "code",
   "execution_count": 17,
   "metadata": {},
   "outputs": [
    {
     "name": "stdout",
     "output_type": "stream",
     "text": [
      "STEI     499\n",
      "FTTM     454\n",
      "FTSL     424\n",
      "FMIPA    396\n",
      "FTMD     352\n",
      "FITB     283\n",
      "SBM      261\n",
      "FSRD     260\n",
      "SAPPK    198\n",
      "SITHR    179\n",
      "SF       154\n",
      "SITHS    102\n",
      "Name: fakultas, dtype: int64\n"
     ]
    }
   ],
   "source": [
    "# 4. Banyak mahasiswa tiap fakultas\n",
    "import pandas as pd\n",
    "\n",
    "df = pd.read_csv(\"nilai_uas.csv\")\n",
    "print(df[\"fakultas\"].value_counts())"
   ]
  },
  {
   "cell_type": "code",
   "execution_count": 18,
   "metadata": {},
   "outputs": [
    {
     "data": {
      "text/plain": [
       "0.9605289823695183"
      ]
     },
     "execution_count": 18,
     "metadata": {},
     "output_type": "execute_result"
    }
   ],
   "source": [
    "# 5. Nilai korelasi antara nilai kalkulus dan nilai fisika\n",
    "import pandas as pd\n",
    "\n",
    "df = pd.read_csv(\"nilai_uas.csv\")\n",
    "df[\"nilai_kal\"].corr(df[\"nilai_fis\"])\n",
    "# 0.9605289823695183 berarti nilai kalkulus dan nilai fisika berkolerasi lurus\n",
    "# karena semakin nilai korelasi mendekati 1, semakin dua nilai berbanding lurus"
   ]
  },
  {
   "cell_type": "code",
   "execution_count": null,
   "metadata": {},
   "outputs": [],
   "source": []
  }
 ],
 "metadata": {
  "kernelspec": {
   "display_name": "Python 3",
   "language": "python",
   "name": "python3"
  },
  "language_info": {
   "codemirror_mode": {
    "name": "ipython",
    "version": 3
   },
   "file_extension": ".py",
   "mimetype": "text/x-python",
   "name": "python",
   "nbconvert_exporter": "python",
   "pygments_lexer": "ipython3",
   "version": "3.8.5"
  }
 },
 "nbformat": 4,
 "nbformat_minor": 4
}
