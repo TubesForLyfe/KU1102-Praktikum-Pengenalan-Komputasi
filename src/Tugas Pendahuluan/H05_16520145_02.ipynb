{
 "cells": [
  {
   "cell_type": "code",
   "execution_count": 6,
   "metadata": {},
   "outputs": [],
   "source": [
    "# Nama : Willy Wilsen\n",
    "# NIM : 16520145\n",
    "# Tanggal : 13 Desember 2020\n",
    "# Deskripsi : Dari nilai_uas.csv akan dikeluarkan\n",
    "# 1. Nilai kalkulus, fisika, dan kimia Tuan Mor\n",
    "# 2. Mahasiswa dengan fisika tertinggi\n",
    "# 3. 10 mahasiswa dengan kimia tertinggi\n",
    "# 4. Banyaknya nilai kalkulus di bawah 50\n",
    "# 5. Banyaknya mahasiswa FMIPA"
   ]
  },
  {
   "cell_type": "code",
   "execution_count": 7,
   "metadata": {},
   "outputs": [
    {
     "name": "stdout",
     "output_type": "stream",
     "text": [
      "         nama fakultas  nilai_kal  nilai_fis  nilai_kim\n",
      "391  Tuan Mor     STEI      94.76       67.5      24.82\n"
     ]
    }
   ],
   "source": [
    "# 1. Nilai kalkulus, fisika, dan kimia Tuan Mor\n",
    "import pandas as pd\n",
    "\n",
    "df = pd.read_csv(\"nilai_uas.csv\")\n",
    "print(df.loc[df[\"nama\"] == \"Tuan Mor\"])"
   ]
  },
  {
   "cell_type": "code",
   "execution_count": 8,
   "metadata": {},
   "outputs": [
    {
     "name": "stdout",
     "output_type": "stream",
     "text": [
      "             nama fakultas  nilai_kal  nilai_fis  nilai_kim\n",
      "250  Cahyani Mora     FSRD      100.0      100.0      79.55\n"
     ]
    }
   ],
   "source": [
    "# 2. Mahasiswa dengan fisika tertinggi\n",
    "import pandas as pd\n",
    "\n",
    "df = pd.read_csv(\"nilai_uas.csv\")\n",
    "fisikamax = df[\"nilai_fis\"].idxmax()\n",
    "print(df[fisikamax:fisikamax + 1])"
   ]
  },
  {
   "cell_type": "code",
   "execution_count": 9,
   "metadata": {},
   "outputs": [
    {
     "name": "stdout",
     "output_type": "stream",
     "text": [
      "                  nama fakultas  nilai_kal  nilai_fis  nilai_kim\n",
      "3074  Muhammadi Jumhur     FTSL      35.56      39.49      88.38\n",
      "640         Grace Yoga     FTTM      42.24      48.16      86.26\n",
      "18      Maria Manurung     FTMD      56.86      58.83      86.26\n",
      "3469        Dhiya Wafa      SBM      68.89      76.51      85.73\n",
      "661          Rasyid FH     FSRD      77.78      77.89      85.26\n",
      "1884       Sukma Ulhaq     FITB      43.97      44.91      85.26\n",
      "780       Rizam Rayhan     FSRD      72.15      71.38      85.07\n",
      "283   WIJAYANTI Amadio    SITHS      61.96      57.73      85.07\n",
      "3017     Jevon Tangguh    FMIPA      50.42      48.15      84.92\n",
      "2487       Ediva zilva    SITHR      65.04      69.31      84.87\n"
     ]
    }
   ],
   "source": [
    "# 3. 10 mahasiswa dengan kimia tertinggi\n",
    "import pandas as pd\n",
    "\n",
    "df = pd.read_csv(\"nilai_uas.csv\")\n",
    "kimiamax = df.sort_values([\"nilai_kim\"], ascending=[0]) # data diurutkan dari tertinggi\n",
    "print(kimiamax[:10]) # ambil 10 data pertama"
   ]
  },
  {
   "cell_type": "code",
   "execution_count": 10,
   "metadata": {},
   "outputs": [
    {
     "name": "stdout",
     "output_type": "stream",
     "text": [
      "1549\n"
     ]
    }
   ],
   "source": [
    "# 4. Banyaknya nilai kalkulus di bawah 50\n",
    "import pandas as pd\n",
    "\n",
    "df = pd.read_csv(\"nilai_uas.csv\")\n",
    "print(len(df.loc[df[\"nilai_kal\"] < 50]))"
   ]
  },
  {
   "cell_type": "code",
   "execution_count": 11,
   "metadata": {},
   "outputs": [
    {
     "name": "stdout",
     "output_type": "stream",
     "text": [
      "396\n"
     ]
    }
   ],
   "source": [
    "# 5. Banyaknya mahasiswa FMIPA\n",
    "import pandas as pd\n",
    "\n",
    "df = pd.read_csv(\"nilai_uas.csv\")\n",
    "print(len(df.loc[df[\"fakultas\"] == \"FMIPA\"]))"
   ]
  },
  {
   "cell_type": "code",
   "execution_count": null,
   "metadata": {},
   "outputs": [],
   "source": []
  }
 ],
 "metadata": {
  "kernelspec": {
   "display_name": "Python 3",
   "language": "python",
   "name": "python3"
  },
  "language_info": {
   "codemirror_mode": {
    "name": "ipython",
    "version": 3
   },
   "file_extension": ".py",
   "mimetype": "text/x-python",
   "name": "python",
   "nbconvert_exporter": "python",
   "pygments_lexer": "ipython3",
   "version": "3.8.5"
  }
 },
 "nbformat": 4,
 "nbformat_minor": 4
}
