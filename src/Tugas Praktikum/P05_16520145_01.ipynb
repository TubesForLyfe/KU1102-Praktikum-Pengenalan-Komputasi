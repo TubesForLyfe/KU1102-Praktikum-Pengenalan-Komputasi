{
 "cells": [
  {
   "cell_type": "code",
   "execution_count": 1,
   "metadata": {},
   "outputs": [],
   "source": [
    "# Nama : Willy Wilsen\n",
    "# NIM : 16520145\n",
    "# Tanggal : 16 Desember 2020\n",
    "# Deskripsi : Dari crypto.csv akan dikeluarkan\n",
    "# 1. Banyaknya data\n",
    "# 2. 10 data pertama\n",
    "# 3. Data ke-200 sampai 204\n",
    "# 4. Jumlah data masing-masing koin\n",
    "# 5. Nilai korelasi antara nilai close dan nilai open"
   ]
  },
  {
   "cell_type": "code",
   "execution_count": 2,
   "metadata": {},
   "outputs": [
    {
     "name": "stdout",
     "output_type": "stream",
     "text": [
      "8219\n"
     ]
    }
   ],
   "source": [
    "# 1. Banyaknya data\n",
    "import pandas as pd\n",
    "\n",
    "df = pd.read_csv(\"crypto.csv\")\n",
    "print(len(df))"
   ]
  },
  {
   "cell_type": "code",
   "execution_count": 4,
   "metadata": {},
   "outputs": [
    {
     "name": "stdout",
     "output_type": "stream",
     "text": [
      "  name        date  ranknow    open    high     low   close  volume  \\\n",
      "0  BTC  2013-04-28        1  135.30  135.98  132.10  134.21     0.0   \n",
      "1  BTC  2013-04-29        1  134.44  147.49  134.00  144.54     0.0   \n",
      "2  BTC  2013-04-30        1  144.00  146.93  134.05  139.00     0.0   \n",
      "3  BTC  2013-05-01        1  139.00  139.89  107.72  116.99     0.0   \n",
      "4  BTC  2013-05-02        1  116.38  125.60   92.28  105.21     0.0   \n",
      "5  BTC  2013-05-03        1  106.25  108.13   79.10   97.75     0.0   \n",
      "6  BTC  2013-05-04        1   98.10  115.00   92.50  112.50     0.0   \n",
      "7  BTC  2013-05-05        1  112.90  118.80  107.14  115.91     0.0   \n",
      "8  BTC  2013-05-06        1  115.98  124.66  106.64  112.30     0.0   \n",
      "9  BTC  2013-05-07        1  112.25  113.44   97.70  111.50     0.0   \n",
      "\n",
      "         market  close_ratio  spread  \n",
      "0  1.488567e+09       0.5438    3.88  \n",
      "1  1.603769e+09       0.7813   13.49  \n",
      "2  1.542813e+09       0.3843   12.88  \n",
      "3  1.298955e+09       0.2882   32.17  \n",
      "4  1.168517e+09       0.3881   33.32  \n",
      "5  1.085995e+09       0.6424   29.03  \n",
      "6  1.250317e+09       0.8889   22.50  \n",
      "7  1.288693e+09       0.7521   11.66  \n",
      "8  1.249023e+09       0.3141   18.02  \n",
      "9  1.240594e+09       0.8767   15.74  \n"
     ]
    }
   ],
   "source": [
    "# 2. 10 data pertama\n",
    "import pandas as pd\n",
    "\n",
    "df = pd.read_csv(\"crypto.csv\")\n",
    "print(df[:10])"
   ]
  },
  {
   "cell_type": "code",
   "execution_count": 5,
   "metadata": {},
   "outputs": [
    {
     "name": "stdout",
     "output_type": "stream",
     "text": [
      "    name        date  ranknow    open    high     low   close  volume  \\\n",
      "199  BTC  2013-11-13        1  360.97  414.05  359.80  407.37     0.0   \n",
      "200  BTC  2013-11-14        1  406.41  425.90  395.19  420.20     0.0   \n",
      "201  BTC  2013-11-15        1  419.41  437.89  396.11  417.95     0.0   \n",
      "202  BTC  2013-11-16        1  417.28  450.26  415.57  440.22     0.0   \n",
      "203  BTC  2013-11-17        1  440.96  500.58  440.24  492.11     0.0   \n",
      "\n",
      "           market  close_ratio  spread  \n",
      "199  4.883103e+09       0.8769   54.25  \n",
      "200  5.038818e+09       0.8144   30.71  \n",
      "201  5.013561e+09       0.5227   41.78  \n",
      "202  5.282849e+09       0.7106   34.69  \n",
      "203  5.907842e+09       0.8596   60.34  \n"
     ]
    }
   ],
   "source": [
    "# 3. Data ke-200 sampai 204\n",
    "import pandas as pd\n",
    "\n",
    "df = pd.read_csv(\"crypto.csv\")\n",
    "print(df[199:204])"
   ]
  },
  {
   "cell_type": "code",
   "execution_count": 6,
   "metadata": {},
   "outputs": [
    {
     "name": "stdout",
     "output_type": "stream",
     "text": [
      "BTC     2042\n",
      "XRP     1944\n",
      "XMR     1653\n",
      "USDT    1369\n",
      "ETH     1211\n",
      "Name: name, dtype: int64\n"
     ]
    }
   ],
   "source": [
    "# 4. Jumlah data masing-masing koin\n",
    "import pandas as pd\n",
    "\n",
    "df = pd.read_csv(\"crypto.csv\")\n",
    "print(df[\"name\"].value_counts())"
   ]
  },
  {
   "cell_type": "code",
   "execution_count": 9,
   "metadata": {},
   "outputs": [
    {
     "data": {
      "text/plain": [
       "0.9982130769363811"
      ]
     },
     "execution_count": 9,
     "metadata": {},
     "output_type": "execute_result"
    }
   ],
   "source": [
    "# 5. Nilai korelasi antara nilai close dan nilai open\n",
    "import pandas as pd\n",
    "\n",
    "df = pd.read_csv(\"crypto.csv\")\n",
    "df[\"close\"].corr(df[\"open\"])\n",
    "# 0.9982130769363811 berarti nilai close dan nilai open berkolerasi lurus\n",
    "# karena semakin nilai korelasi mendekati 1, semakin dua nilai berbanding lurus"
   ]
  },
  {
   "cell_type": "code",
   "execution_count": null,
   "metadata": {},
   "outputs": [],
   "source": []
  }
 ],
 "metadata": {
  "kernelspec": {
   "display_name": "Python 3",
   "language": "python",
   "name": "python3"
  },
  "language_info": {
   "codemirror_mode": {
    "name": "ipython",
    "version": 3
   },
   "file_extension": ".py",
   "mimetype": "text/x-python",
   "name": "python",
   "nbconvert_exporter": "python",
   "pygments_lexer": "ipython3",
   "version": "3.8.5"
  }
 },
 "nbformat": 4,
 "nbformat_minor": 4
}
