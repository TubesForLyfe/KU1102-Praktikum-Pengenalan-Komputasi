{
 "cells": [
  {
   "cell_type": "code",
   "execution_count": 1,
   "metadata": {},
   "outputs": [],
   "source": [
    "# Nama : Willy Wilsen\n",
    "# NIM : 16520145\n",
    "# Tanggal : 16 Desember 2020\n",
    "# Deskripsi : Dari crypto.csv akan dikeluarkan\n",
    "# 1. Data untuk koin USDT\n",
    "# 2. Data yang ada pada tanggal 4 Juli 2016\n",
    "# 3. 5 data dengan nilai high tertinggi\n",
    "# 4. Nilai close tertinggi\n",
    "# 5. Tanggal nilai high tertinggi ETH terjadi"
   ]
  },
  {
   "cell_type": "code",
   "execution_count": 2,
   "metadata": {},
   "outputs": [
    {
     "name": "stdout",
     "output_type": "stream",
     "text": [
      "      name        date  ranknow      open      high       low     close  \\\n",
      "5197  USDT  2015-02-25        8  1.210000  1.220000  1.210000  1.210000   \n",
      "5198  USDT  2015-02-26        8  1.210000  1.210000  1.190000  1.210000   \n",
      "5199  USDT  2015-03-02        8  0.571249  0.607890  0.568314  0.606502   \n",
      "5200  USDT  2015-03-03        8  0.605129  0.606229  0.604416  0.606229   \n",
      "5201  USDT  2015-03-06        8  1.000000  1.000000  1.000000  1.000000   \n",
      "...    ...         ...      ...       ...       ...       ...       ...   \n",
      "6561  USDT  2018-11-25        8  0.978475  0.990603  0.961215  0.980969   \n",
      "6562  USDT  2018-11-26        8  0.975026  0.992572  0.967920  0.977243   \n",
      "6563  USDT  2018-11-27        8  0.978976  0.991699  0.966279  0.984260   \n",
      "6564  USDT  2018-11-28        8  0.983320  1.010000  0.980093  0.998622   \n",
      "6565  USDT  2018-11-29        8  0.995164  1.010000  0.992057  0.997377   \n",
      "\n",
      "            volume        market  close_ratio  spread  \n",
      "5197  6.000000e+00  3.047130e+05       0.0000    0.01  \n",
      "5198  6.000000e+00  3.033640e+05       1.0000    0.02  \n",
      "5199  3.000000e+00  1.525960e+05       0.9649    0.04  \n",
      "5200  3.000000e+00  1.525270e+05       1.0000    0.00  \n",
      "5201  9.300000e+01  2.516000e+05       0.0000    0.00  \n",
      "...            ...           ...          ...     ...  \n",
      "6561  5.223930e+09  1.821092e+09       0.6722    0.03  \n",
      "6562  4.696030e+09  1.814175e+09       0.3782    0.02  \n",
      "6563  4.071230e+09  1.827202e+09       0.7074    0.03  \n",
      "6564  4.765620e+09  1.853864e+09       0.6196    0.03  \n",
      "6565  4.348558e+09  1.851553e+09       0.2965    0.02  \n",
      "\n",
      "[1369 rows x 11 columns]\n"
     ]
    }
   ],
   "source": [
    "# 1. Data untuk koin USDT\n",
    "import pandas as pd\n",
    "\n",
    "df = pd.read_csv(\"crypto.csv\")\n",
    "print(df.loc[df[\"name\"] == \"USDT\"])"
   ]
  },
  {
   "cell_type": "code",
   "execution_count": 3,
   "metadata": {},
   "outputs": [
    {
     "name": "stdout",
     "output_type": "stream",
     "text": [
      "      name        date  ranknow        open        high         low  \\\n",
      "1163   BTC  2016-07-04        1  658.800000  683.660000  650.510000   \n",
      "3107   XRP  2016-07-04        2    0.006621    0.008447    0.006599   \n",
      "4318   ETH  2016-07-04        3   11.700000   11.880000   11.390000   \n",
      "5687  USDT  2016-07-04        8    1.000000    1.000000    1.000000   \n",
      "7340   XMR  2016-07-04       11    1.700000    1.800000    1.660000   \n",
      "\n",
      "           close      volume        market  close_ratio  spread  \n",
      "1163  683.660000  92008400.0  1.075623e+10       1.0000   33.15  \n",
      "3107    0.007028    875970.0  2.484005e+08       0.2321    0.00  \n",
      "4318   11.470000  12943500.0  9.368404e+08       0.1633    0.49  \n",
      "5687    1.000000   1703670.0  5.951591e+06       0.0000    0.00  \n",
      "7340    1.710000    151474.0  2.106825e+07       0.3571    0.14  \n"
     ]
    }
   ],
   "source": [
    "# 2. Data yang ada pada tanggal 4 Juli 2016\n",
    "import pandas as pd\n",
    "\n",
    "df = pd.read_csv(\"crypto.csv\")\n",
    "print(df.loc[df[\"date\"] == \"2016-07-04\"])"
   ]
  },
  {
   "cell_type": "code",
   "execution_count": 13,
   "metadata": {
    "scrolled": true
   },
   "outputs": [
    {
     "name": "stdout",
     "output_type": "stream",
     "text": [
      "     name        date  ranknow     open     high      low    close  \\\n",
      "1694  BTC  2017-12-17        1  19475.8  20089.0  18974.1  19140.8   \n",
      "1693  BTC  2017-12-16        1  17760.3  19716.7  17515.3  19497.4   \n",
      "1695  BTC  2017-12-18        1  19106.4  19371.0  18355.9  19114.2   \n",
      "1696  BTC  2017-12-19        1  19118.3  19177.8  17275.4  17776.7   \n",
      "1685  BTC  2017-12-08        1  17802.9  18353.4  14336.9  16569.4   \n",
      "\n",
      "            volume        market  close_ratio  spread  \n",
      "1694  1.331460e+10  3.205766e+11       0.1495  1114.9  \n",
      "1693  1.274060e+10  3.265025e+11       0.9004  2201.4  \n",
      "1695  1.483950e+10  3.201743e+11       0.7470  1015.1  \n",
      "1696  1.689450e+10  2.978011e+11       0.2635  1902.4  \n",
      "1685  2.113600e+10  2.771858e+11       0.5558  4016.5  \n"
     ]
    }
   ],
   "source": [
    "# 3. 5 data dengan nilai high tertinggi\n",
    "import pandas as pd\n",
    "\n",
    "df = pd.read_csv(\"crypto.csv\")\n",
    "highmax = df.sort_values([\"high\"],ascending=[0]) # data diurutkan dari high tertinggi\n",
    "print(highmax[:5]) # ambil 5 data pertama"
   ]
  },
  {
   "cell_type": "code",
   "execution_count": 19,
   "metadata": {},
   "outputs": [
    {
     "name": "stdout",
     "output_type": "stream",
     "text": [
      "     name        date  ranknow     open     high      low    close  \\\n",
      "1693  BTC  2017-12-16        1  17760.3  19716.7  17515.3  19497.4   \n",
      "\n",
      "            volume        market  close_ratio  spread  \n",
      "1693  1.274060e+10  3.265025e+11       0.9004  2201.4  \n"
     ]
    }
   ],
   "source": [
    "# 4. Nilai close tertinggi\n",
    "import pandas as pd\n",
    "\n",
    "df = pd.read_csv(\"crypto.csv\")\n",
    "closemax = df[\"close\"].idxmax()\n",
    "print(df[closemax:closemax + 1])"
   ]
  },
  {
   "cell_type": "code",
   "execution_count": 27,
   "metadata": {},
   "outputs": [
    {
     "name": "stdout",
     "output_type": "stream",
     "text": [
      "     name        date  ranknow     open     high      low    close  \\\n",
      "4876  ETH  2018-01-13        3  1270.47  1432.88  1270.47  1396.42   \n",
      "\n",
      "            volume        market  close_ratio  spread  \n",
      "4876  5.746760e+09  1.354007e+11       0.7755  162.41  \n"
     ]
    }
   ],
   "source": [
    "# 5. Tanggal nilai high tertinggi ETH terjadi\n",
    "import pandas as pd\n",
    "\n",
    "df = pd.read_csv(\"crypto.csv\")\n",
    "highmax = df.sort_values([\"high\"],ascending=[0]) # data diurutkan dari high tertinggi\n",
    "higheth = highmax.loc[highmax[\"name\"] == \"ETH\"] # kemudian diurutkan data ETH-nya\n",
    "print(higheth[:1]) # ambil data pertama(ETH tertinggi)"
   ]
  },
  {
   "cell_type": "code",
   "execution_count": null,
   "metadata": {},
   "outputs": [],
   "source": []
  }
 ],
 "metadata": {
  "kernelspec": {
   "display_name": "Python 3",
   "language": "python",
   "name": "python3"
  },
  "language_info": {
   "codemirror_mode": {
    "name": "ipython",
    "version": 3
   },
   "file_extension": ".py",
   "mimetype": "text/x-python",
   "name": "python",
   "nbconvert_exporter": "python",
   "pygments_lexer": "ipython3",
   "version": "3.8.5"
  }
 },
 "nbformat": 4,
 "nbformat_minor": 4
}
